{
 "metadata": {
  "language_info": {
   "codemirror_mode": {
    "name": "ipython",
    "version": 3
   },
   "file_extension": ".py",
   "mimetype": "text/x-python",
   "name": "python",
   "nbconvert_exporter": "python",
   "pygments_lexer": "ipython3",
   "version": "3.7.9-final"
  },
  "orig_nbformat": 2,
  "kernelspec": {
   "name": "python3",
   "display_name": "Python 3",
   "language": "python"
  }
 },
 "nbformat": 4,
 "nbformat_minor": 2,
 "cells": [
  {
   "cell_type": "code",
   "execution_count": 1,
   "metadata": {},
   "outputs": [
    {
     "output_type": "stream",
     "name": "stdout",
     "text": [
      "6\n"
     ]
    }
   ],
   "source": [
    "n = 1260\n",
    "count = 0\n",
    "\n",
    "# 큰 단위의 화폐부터 차례대로 확인하기\n",
    "coin_types = [500, 100, 50, 10]\n",
    "\n",
    "for coin in coin_types:\n",
    "    count += n // coin # 해당 화폐로 거슬러 줄 수 있는 동전의 개수 세기\n",
    "    n %= coin\n",
    "\n",
    "print(count)"
   ]
  },
  {
   "cell_type": "code",
   "execution_count": 2,
   "metadata": {},
   "outputs": [
    {
     "output_type": "stream",
     "name": "stdout",
     "text": [
      "14\n"
     ]
    }
   ],
   "source": [
    "# N, K공백을 기준으로 구분하여 입력 받기\n",
    "n, k = map(int, input().split())\n",
    "\n",
    "result = 0\n",
    "\n",
    "while True:\n",
    "    # N이 K로 나누어 떨어지는 수가 될 때까지만 1씩 빼기\n",
    "    target = (n // k) * k\n",
    "    result += (n - target)\n",
    "    n = target\n",
    "    # N이 K보다 작을 때 (더 이상 나눌 수 없을 때) 반복문 탈출\n",
    "    if n < k:\n",
    "        break\n",
    "    # K로 나누기\n",
    "    result += 1\n",
    "    n //= k\n",
    "\n",
    "# 마지막으로 남은 수에 대하여 1씩 빼기\n",
    "result += (n - 1)\n",
    "print(result)"
   ]
  },
  {
   "cell_type": "code",
   "execution_count": 16,
   "metadata": {},
   "outputs": [
    {
     "output_type": "stream",
     "name": "stdout",
     "text": [
      "3\n"
     ]
    }
   ],
   "source": [
    "data = input()\n",
    "\n",
    "# 첫 번째 문자를 숫자로 변경하여 대입\n",
    "result = int(data[0])\n",
    "\n",
    "for i in range(1, len(data)):\n",
    "    # 두 수 중에서 하나라도 '0' 혹은 '1'인 경우, 곱하기보다는 더하기 수행\n",
    "    num = int(data[i])\n",
    "    if num <= 1 or result <= 1:\n",
    "        result += num\n",
    "    else:\n",
    "        result *= num\n",
    "\n",
    "print(result)"
   ]
  },
  {
   "cell_type": "code",
   "execution_count": null,
   "metadata": {},
   "outputs": [],
   "source": [
    "n = int(input())\n",
    "data = list(map(int, input().split()))\n",
    "data.sort()\n",
    "\n",
    "result = 0 # 총 그룹의 수\n",
    "count = 0 # 현재 그룹에 포함된 모험가의 수\n",
    "\n",
    "for i in data: # 공포도를 낮은 것부터 하나씩 확인하며\n",
    "    count += 1 # 현재 그룹에 해당 모험가를 포함시키기\n",
    "    if count >= i: # 현재 그룹에 포함된 모험가의 수가 현재의 공포도 이상이라면, 그룹 결성\n",
    "        result += 1 # 총 그룹의 수 증가시키기\n",
    "        count = 0 # 현재 그룹에 포함된 모험가의 수 초기화\n",
    "\n",
    "print(result) # 총 그룹의 수 출력"
   ]
  },
  {
   "source": [],
   "cell_type": "markdown",
   "metadata": {}
  },
  {
   "source": [
    "다솜이는 0과 1로만 이루어진 문자열 S를 가지고 있다. 다솜이는 이 문자열 S에 있는 모든 숫자를 전부 같게 만들려고 한다. 다솜이가 할 수 있는 행동은 S에서 연속된 하나 이상의 숫자를 잡고 모두 뒤집는 것이다. 뒤집는 것은 1을 0으로, 0을 1로 바꾸는 것을 의미한다.\n",
    "\n",
    "예를 들어 S=0001100 일 때,\n",
    "\n",
    "전체를 뒤집으면 1110011이 된다.\n",
    "4번째 문자부터 5번째 문자까지 뒤집으면 1111111이 되어서 2번 만에 모두 같은 숫자로 만들 수 있다.\n",
    "하지만, 처음부터 4번째 문자부터 5번째 문자까지 문자를 뒤집으면 한 번에 0000000이 되어서 1번 만에 모두 같은 숫자로 만들 수 있다.\n",
    "\n",
    "문자열 S가 주어졌을 때, 다솜이가 해야하는 행동의 최소 횟수를 출력하시오.\n",
    "\n",
    "입력\n",
    "첫째 줄에 문자열 S가 주어진다. S의 길이는 100만보다 작다.\n",
    "\n",
    "출력\n",
    "첫째 줄에 다솜이가 해야하는 행동의 최소 횟수를 출력한다."
   ],
   "cell_type": "markdown",
   "metadata": {}
  },
  {
   "cell_type": "code",
   "execution_count": 15,
   "metadata": {},
   "outputs": [
    {
     "output_type": "stream",
     "name": "stdout",
     "text": [
      "9\n"
     ]
    }
   ],
   "source": [
    "data = input()\n",
    "count0 = 0 # 전부 0으로 바꾸는 경우\n",
    "count1 = 0 # 전부 1로 바꾸는 경우\n",
    "\n",
    "# 첫 번째 원소에 대해서 처리\n",
    "if data[0] == '1':\n",
    "    count0 += 1\n",
    "else:\n",
    "    count1 += 1\n",
    "\n",
    "# 두 번째 원소부터 모든 원소를 확인하며\n",
    "for i in range(len(data) - 1):\n",
    "    if data[i] != data[i + 1]:\n",
    "        # 다음 수에서 1로 바뀌는 경우\n",
    "        if data[i + 1] == '1':\n",
    "            count0 += 1\n",
    "        # 다음 수에서 0으로 바뀌는 경우\n",
    "        else:\n",
    "            count1 += 1\n",
    "\n",
    "print(min(count0, count1))"
   ]
  },
  {
   "cell_type": "code",
   "execution_count": 17,
   "metadata": {},
   "outputs": [
    {
     "output_type": "stream",
     "name": "stdout",
     "text": [
      "2\n"
     ]
    }
   ],
   "source": [
    "# N, M을 공백을 기준으로 구분하여 입력 받기\n",
    "n, m = map(int, input().split())\n",
    "\n",
    "result = 0\n",
    "# 한 줄씩 입력 받아 확인하기\n",
    "for i in range(n):\n",
    "    data = list(map(int, input().split()))\n",
    "    # 현재 줄에서 '가장 작은 수' 찾기\n",
    "    min_value = 10001\n",
    "    for a in data:\n",
    "        min_value = min(min_value, a)\n",
    "    # '가장 작은 수'들 중에서 가장 큰 수 찾기\n",
    "    result = max(result, min_value)\n",
    "\n",
    "print(result) # 최종 답안 출력"
   ]
  }
 ]
}