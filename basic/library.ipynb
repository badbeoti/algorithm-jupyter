{
 "metadata": {
  "language_info": {
   "codemirror_mode": {
    "name": "ipython",
    "version": 3
   },
   "file_extension": ".py",
   "mimetype": "text/x-python",
   "name": "python",
   "nbconvert_exporter": "python",
   "pygments_lexer": "ipython3",
   "version": "3.7.9-final"
  },
  "orig_nbformat": 2,
  "kernelspec": {
   "name": "python3",
   "display_name": "Python 3",
   "language": "python"
  }
 },
 "nbformat": 4,
 "nbformat_minor": 2,
 "cells": [
  {
   "cell_type": "code",
   "execution_count": null,
   "metadata": {},
   "outputs": [],
   "source": [
    "import itertools\n",
    "# 반복되는 형태의 데이터를 처리하기 유용한 기능\n",
    "import heapq\n",
    "# Heap 자료구조 제공 우선순위 큐 기능\n",
    "import bisect\n",
    "# 이진 탐색 (Binary Search)\n",
    "import collections\n",
    "# deque / Counter \n",
    "import math\n",
    "# 팩토리얼, 제곱근, 최대공약수(GCD), 삼각함수 pi"
   ]
  },
  {
   "cell_type": "code",
   "execution_count": 1,
   "metadata": {},
   "outputs": [
    {
     "output_type": "stream",
     "name": "stdout",
     "text": [
      "15\n2 7\n56\n"
     ]
    }
   ],
   "source": [
    "# sum()\n",
    "result = sum([1,2,3,4,5])\n",
    "print(result)\n",
    "\n",
    "# min(), max()\n",
    "min_result = min(7,3,5,2)\n",
    "max_result = max(7,3,5,2)\n",
    "print(min_result, max_result)\n",
    "\n",
    "# eval()\n",
    "result = eval(\"(3 + 5) * 7\")\n",
    "print(result)"
   ]
  },
  {
   "cell_type": "code",
   "execution_count": 4,
   "metadata": {},
   "outputs": [
    {
     "output_type": "stream",
     "name": "stdout",
     "text": [
      "[1, 4, 5, 8, 9]\n[9, 8, 5, 4, 1]\n[('이', 75), ('아', 50), ('홍', 35)]\n"
     ]
    }
   ],
   "source": [
    "# sorted()\n",
    "result = sorted([9,1,8,5,4])\n",
    "reverse_result = sorted([9,1,8,5,4], reverse=True)\n",
    "print(result)\n",
    "print(reverse_result)\n",
    "\n",
    "# sorted() with key\n",
    "array = [(\"홍\", 35), (\"이\",75), (\"아\", 50)]\n",
    "result = sorted(array, key=lambda x: x[1], reverse=True)\n",
    "print(result)"
   ]
  },
  {
   "source": [
    "- 순열: 서로 다른 n개에서 서로 다른 r개를 선택하여 일렬로 나열하는 것\n",
    "    - {'A','B','C'}에서 세 개를 선택하여 나열하는 경우: 'ABC','ACB','BAC','BCA','CAB','CBA'\n",
    "- 조합: 서로 다른 n개에서 순서에 상관 없이 서로 다른 r개를 선택하는 것\n",
    "    - {'A','B','C'}에서 순서를 고려하지 않고 두 개를 뽑는 경우: 'AB','AC','BC'\n"
   ],
   "cell_type": "markdown",
   "metadata": {}
  },
  {
   "cell_type": "code",
   "execution_count": 7,
   "metadata": {},
   "outputs": [
    {
     "output_type": "stream",
     "name": "stdout",
     "text": [
      "[('A', 'B', 'C'), ('A', 'C', 'B'), ('B', 'A', 'C'), ('B', 'C', 'A'), ('C', 'A', 'B'), ('C', 'B', 'A')]\n"
     ]
    }
   ],
   "source": [
    "from itertools import permutations\n",
    "\n",
    "data = ['A','B','C']\n",
    "\n",
    "result = list(permutations(data, 3))\n",
    "print(result)"
   ]
  },
  {
   "cell_type": "code",
   "execution_count": 9,
   "metadata": {},
   "outputs": [
    {
     "output_type": "stream",
     "name": "stdout",
     "text": [
      "[('A', 'B'), ('A', 'C'), ('B', 'C')]\n"
     ]
    }
   ],
   "source": [
    "from itertools import combinations\n",
    "\n",
    "data = ['A','B','C']\n",
    "\n",
    "result = list(combinations(data, 2))\n",
    "print(result)"
   ]
  },
  {
   "cell_type": "code",
   "execution_count": 10,
   "metadata": {},
   "outputs": [
    {
     "output_type": "stream",
     "name": "stdout",
     "text": [
      "2\n4\n{'a': 2, 'b': 1, 'c': 4}\n"
     ]
    }
   ],
   "source": [
    "from collections import Counter\n",
    "\n",
    "counter = Counter(['a','a','b','c','c','c','c'])\n",
    "\n",
    "print(counter['a'])\n",
    "print(counter['c'])\n",
    "print(dict(counter))"
   ]
  },
  {
   "cell_type": "code",
   "execution_count": 11,
   "metadata": {},
   "outputs": [
    {
     "output_type": "stream",
     "name": "stdout",
     "text": [
      "7\n42\n"
     ]
    }
   ],
   "source": [
    "import math\n",
    "\n",
    "# 최소 공배수(LCM)를 구하는 함수\n",
    "def lcm(a,b):\n",
    "    return a * b // math.gcd(a,b)\n",
    "\n",
    "a = 21\n",
    "b = 14\n",
    "\n",
    "print(math.gcd(a,b))\n",
    "print(lcm(a,b))"
   ]
  },
  {
   "cell_type": "code",
   "execution_count": null,
   "metadata": {},
   "outputs": [],
   "source": []
  }
 ]
}