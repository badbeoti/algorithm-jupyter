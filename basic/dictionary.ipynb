{
 "metadata": {
  "language_info": {
   "codemirror_mode": {
    "name": "ipython",
    "version": 3
   },
   "file_extension": ".py",
   "mimetype": "text/x-python",
   "name": "python",
   "nbconvert_exporter": "python",
   "pygments_lexer": "ipython3",
   "version": "3.7.9-final"
  },
  "orig_nbformat": 2,
  "kernelspec": {
   "name": "python3",
   "display_name": "Python 3",
   "language": "python"
  }
 },
 "nbformat": 4,
 "nbformat_minor": 2,
 "cells": [
  {
   "cell_type": "code",
   "execution_count": 1,
   "metadata": {},
   "outputs": [
    {
     "output_type": "stream",
     "name": "stdout",
     "text": [
      "dict_items([('A', '값A'), ('B', '값B'), ('C', '값C'), ('D', '값D'), ('E', '값E')])\ndictionary[A] = 값A\ndictionary[B] = 값B\ndictionary[C] = 값C\ndictionary[D] = 값D\ndictionary[E] = 값E\n"
     ]
    }
   ],
   "source": [
    "# items() 함수로 딕셔너리 다루기\n",
    "dictionary_test = {\n",
    "    \"A\": \"값A\",\n",
    "    \"B\": \"값B\",\n",
    "    \"C\": \"값C\",\n",
    "    \"D\": \"값D\",\n",
    "    \"E\": \"값E\",\n",
    "}\n",
    "\n",
    "print(dictionary_test.items())\n",
    "\n",
    "for key,ele in dictionary_test.items():\n",
    "    print(\"dictionary[{}] = {}\".format(key,ele))"
   ]
  },
  {
   "cell_type": "code",
   "execution_count": null,
   "metadata": {},
   "outputs": [],
   "source": []
  }
 ]
}