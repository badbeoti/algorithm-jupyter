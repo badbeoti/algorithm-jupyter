{
 "metadata": {
  "language_info": {
   "codemirror_mode": {
    "name": "ipython",
    "version": 3
   },
   "file_extension": ".py",
   "mimetype": "text/x-python",
   "name": "python",
   "nbconvert_exporter": "python",
   "pygments_lexer": "ipython3",
   "version": "3.7.9-final"
  },
  "orig_nbformat": 2,
  "kernelspec": {
   "name": "python3",
   "display_name": "Python 3",
   "language": "python"
  }
 },
 "nbformat": 4,
 "nbformat_minor": 2,
 "cells": [
  {
   "cell_type": "code",
   "execution_count": 2,
   "metadata": {},
   "outputs": [
    {
     "output_type": "stream",
     "name": "stdout",
     "text": [
      "[0, 1, 2, 3, 4, 5, 6, 7, 8, 9]\n[0, 1, 2, 3, 4, 5, 6, 7, 8, 9]\n[0, 2, 4, 6, 8]\n[0, 3, 6, 9]\n"
     ]
    }
   ],
   "source": [
    "print(list(range(10)))\n",
    "print(list(range(0,10)))\n",
    "print(list(range(0,10,2)))\n",
    "print(list(range(0,10,3)))"
   ]
  },
  {
   "cell_type": "code",
   "execution_count": 3,
   "metadata": {},
   "outputs": [
    {
     "output_type": "stream",
     "name": "stdout",
     "text": [
      "현재 반복 변수: 0\n현재 반복 변수: 1\n현재 반복 변수: 2\n현재 반복 변수: 3\n현재 반복 변수: 4\n현재 반복 변수: 4\n현재 반복 변수: 3\n현재 반복 변수: 2\n현재 반복 변수: 1\n현재 반복 변수: 0\n현재 반복 변수: 4\n현재 반복 변수: 3\n현재 반복 변수: 2\n현재 반복 변수: 1\n현재 반복 변수: 0\n"
     ]
    }
   ],
   "source": [
    "array = [12,34,56,78,99]\n",
    "\n",
    "for i in range(len(array)):\n",
    "    print(\"현재 반복 변수: {}\".format(i))\n",
    "\n",
    "for i in range(4,0 -1, -1):\n",
    "    print(\"현재 반복 변수: {}\".format(i))\n",
    "\n",
    "for i in reversed(range(5)):\n",
    "    print(\"현재 반복 변수: {}\".format(i))"
   ]
  },
  {
   "cell_type": "code",
   "execution_count": null,
   "metadata": {},
   "outputs": [],
   "source": []
  }
 ]
}