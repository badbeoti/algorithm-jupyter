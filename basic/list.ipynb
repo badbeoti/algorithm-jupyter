{
 "metadata": {
  "language_info": {
   "codemirror_mode": {
    "name": "ipython",
    "version": 3
   },
   "file_extension": ".py",
   "mimetype": "text/x-python",
   "name": "python",
   "nbconvert_exporter": "python",
   "pygments_lexer": "ipython3",
   "version": "3.7.9-final"
  },
  "orig_nbformat": 2,
  "kernelspec": {
   "name": "python3",
   "display_name": "Python 3",
   "language": "python"
  }
 },
 "nbformat": 4,
 "nbformat_minor": 2,
 "cells": [
  {
   "cell_type": "code",
   "execution_count": 1,
   "metadata": {},
   "outputs": [
    {
     "output_type": "stream",
     "name": "stdout",
     "text": [
      "[1, 2, 3, 4, 5, 6]\n[1, 2, 3, 1, 2, 3, 1, 2, 3]\n9\n"
     ]
    }
   ],
   "source": [
    "# 리스트 연산자: 연결(+) / 반복(*) / len()\n",
    "list_a =[1,2,3]\n",
    "list_b =[4,5,6]\n",
    "\n",
    "print(list_a + list_b)\n",
    "print(list_a * 3)\n",
    "print(len(list_a * 3))"
   ]
  },
  {
   "cell_type": "code",
   "execution_count": 3,
   "metadata": {},
   "outputs": [
    {
     "output_type": "stream",
     "name": "stdout",
     "text": [
      "[0, 1, 2, 3, 4, 5, 6, 7, 8, 9, 10]\n"
     ]
    }
   ],
   "source": [
    "# 리스트에 요소 추가하기: append, insert, extend\n",
    "a = [1,2,3]\n",
    "a.append(4)\n",
    "a.append(5)\n",
    "a.insert(0,0)\n",
    "a.extend([6,7,8,9,10])\n",
    "print(a)\n",
    "# 3 메서드 전부 파괴적 처리"
   ]
  },
  {
   "cell_type": "code",
   "execution_count": 5,
   "metadata": {},
   "outputs": [
    {
     "output_type": "stream",
     "name": "stdout",
     "text": [
      "[1, 2, 3, 4, 5]\n5\n[1, 2, 3, 4]\n4\n"
     ]
    }
   ],
   "source": [
    "# 인덱스로 제거하기: del, pop\n",
    "a = [0,1,2,3,4,5]\n",
    "del a[0]\n",
    "print(a)\n",
    "print(a.pop()) \n",
    "# pop()은 빼낸 요소를 리턴한다.\n",
    "print(a)\n",
    "print(a.pop(3))"
   ]
  },
  {
   "cell_type": "code",
   "execution_count": 2,
   "metadata": {},
   "outputs": [
    {
     "output_type": "stream",
     "name": "stdout",
     "text": [
      "[1, 2, 3, 5, 6]\n[]\n"
     ]
    }
   ],
   "source": [
    "# 값으로 제거하기: remove, clear\n",
    "a = [1,2,3,4,5,6]\n",
    "a.remove(4)\n",
    "print(a)\n",
    "a.clear()\n",
    "print(a)"
   ]
  },
  {
   "cell_type": "code",
   "execution_count": 3,
   "metadata": {},
   "outputs": [
    {
     "output_type": "stream",
     "name": "stdout",
     "text": [
      "4152\n8645\n23655\n"
     ]
    }
   ],
   "source": [
    "# 리스트에 적용할 수 있는 기본 함수: min() / max() / sum()\n",
    "a = [4152,6532,4326,8645]\n",
    "print(min(a))\n",
    "print(max(a))\n",
    "print(sum(a))"
   ]
  },
  {
   "cell_type": "code",
   "execution_count": 5,
   "metadata": {},
   "outputs": [
    {
     "output_type": "stream",
     "name": "stdout",
     "text": [
      "[6, 5, 4, 3, 2, 1]\n"
     ]
    }
   ],
   "source": [
    "# reversed() 함수로 리스트 뒤집기\n",
    "a = [1,2,3,4,5,6]\n",
    "print(list(reversed(a)))\n",
    "# reversed()는 제너레이터 함수란다. 어쩌란건지~"
   ]
  },
  {
   "cell_type": "code",
   "execution_count": 4,
   "metadata": {},
   "outputs": [
    {
     "output_type": "stream",
     "name": "stdout",
     "text": [
      "요세하녕안\n"
     ]
    }
   ],
   "source": [
    "print(\"안녕하세요\"[::-1])"
   ]
  },
  {
   "cell_type": "code",
   "execution_count": 8,
   "metadata": {},
   "outputs": [
    {
     "output_type": "stream",
     "name": "stdout",
     "text": [
      "[(0, 'A'), (1, 'B'), (2, 'C'), (3, 'D'), (4, 'E')]\n0번째 요소는 A입니다.\n1번째 요소는 B입니다.\n2번째 요소는 C입니다.\n3번째 요소는 D입니다.\n4번째 요소는 E입니다.\n"
     ]
    }
   ],
   "source": [
    "# enumerate() 함수와 리스트\n",
    "a = [\"A\",\"B\",\"C\",\"D\",\"E\"]\n",
    "\n",
    "print(list(enumerate(a)))\n",
    "\n",
    "for i,value in enumerate(a):\n",
    "    print(\"{}번째 요소는 {}입니다.\".format(i,value))"
   ]
  },
  {
   "cell_type": "code",
   "execution_count": 1,
   "metadata": {},
   "outputs": [
    {
     "output_type": "stream",
     "name": "stdout",
     "text": [
      "{1, 2, 3, 4, 5, 6}\n{1, 2, 3, 4, 5, 6}\n"
     ]
    }
   ],
   "source": [
    "# 집합 자료형 초기화 방법\n",
    "# 중복 값이 자동으로 삭제된다.\n",
    "data = set([1,2,3,3,4,4,4,5,6,6])\n",
    "print(data)\n",
    "data = {1,2,3,3,4,4,4,5,6,6}\n",
    "print(data)"
   ]
  },
  {
   "cell_type": "code",
   "execution_count": 2,
   "metadata": {},
   "outputs": [
    {
     "output_type": "stream",
     "name": "stdout",
     "text": [
      "{1, 2, 3, 4, 5, 6, 7}\n{3, 4, 5}\n{1, 2}\n"
     ]
    }
   ],
   "source": [
    "# 집합 자료형의 연산\n",
    "a = set([1,2,3,4,5])\n",
    "b = set([3,4,5,6,7])\n",
    "print(a | b)\n",
    "print(a & b)\n",
    "print(a - b)"
   ]
  },
  {
   "cell_type": "code",
   "execution_count": 3,
   "metadata": {},
   "outputs": [
    {
     "output_type": "stream",
     "name": "stdout",
     "text": [
      "{1, 2, 3}\n{1, 2, 3, 4}\n{1, 2, 3, 4, 5, 6}\n{1, 2, 4, 5, 6}\n"
     ]
    }
   ],
   "source": [
    "# 집합 자료형 관련 함수\n",
    "data = set([1,2,3])\n",
    "print(data)\n",
    "data.add(4)\n",
    "print(data)\n",
    "data.update([5,6])\n",
    "print(data)\n",
    "data.remove(3)\n",
    "print(data)"
   ]
  },
  {
   "cell_type": "code",
   "execution_count": 4,
   "metadata": {},
   "outputs": [
    {
     "output_type": "stream",
     "name": "stdout",
     "text": [
      "[7, 9, 11, 13, 15]\n"
     ]
    }
   ],
   "source": [
    "# 람다 표현식과 map()함수\n",
    "list1 = [1,2,3,4,5]\n",
    "list2 = [6,7,8,9,10]\n",
    "\n",
    "result = map(lambda a,b: a + b, list1, list2)\n",
    "\n",
    "print(list(result))"
   ]
  },
  {
   "cell_type": "code",
   "execution_count": null,
   "metadata": {},
   "outputs": [],
   "source": []
  }
 ]
}