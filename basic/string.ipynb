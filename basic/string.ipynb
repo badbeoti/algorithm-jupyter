{
 "metadata": {
  "language_info": {
   "codemirror_mode": {
    "name": "ipython",
    "version": 3
   },
   "file_extension": ".py",
   "mimetype": "text/x-python",
   "name": "python",
   "nbconvert_exporter": "python",
   "pygments_lexer": "ipython3",
   "version": "3.7.9-final"
  },
  "orig_nbformat": 2,
  "kernelspec": {
   "name": "python3",
   "display_name": "Python 3",
   "language": "python"
  }
 },
 "nbformat": 4,
 "nbformat_minor": 2,
 "cells": [
  {
   "cell_type": "code",
   "execution_count": 4,
   "metadata": {},
   "outputs": [
    {
     "output_type": "stream",
     "name": "stdout",
     "text": [
      "['a', 'b', 'c']\n"
     ]
    }
   ],
   "source": [
    "# 문자열 범위 선택 연산자(슬라이싱): [ : ]\r\n",
    "# 마지막 숫자를 포함하지 않음\r\n",
    "print([\"a\",\"b\",\"c\",\"d\",\"e\"][0:3])"
   ]
  },
  {
   "source": [
    "# 문자열 길이 len()\n",
    "print(len(\"코딩테스트\"))"
   ],
   "cell_type": "code",
   "metadata": {},
   "execution_count": 6,
   "outputs": [
    {
     "output_type": "stream",
     "name": "stdout",
     "text": [
      "5\n"
     ]
    }
   ]
  },
  {
   "cell_type": "code",
   "execution_count": 8,
   "metadata": {},
   "outputs": [
    {
     "output_type": "stream",
     "name": "stdout",
     "text": [
      "HIHIHI\nhihihi\n"
     ]
    }
   ],
   "source": [
    "# 대소문자 바꾸기: upper() / lower()\n",
    "a = \"hiHIhi\"\n",
    "print(a.upper())\n",
    "print(a.lower())"
   ]
  },
  {
   "cell_type": "code",
   "execution_count": 10,
   "metadata": {},
   "outputs": [
    {
     "output_type": "stream",
     "name": "stdout",
     "text": [
      "  고오옹배액     \n고오옹배액\n"
     ]
    }
   ],
   "source": [
    "# 문자열 공백 제거: strip()\n",
    "a = \"  고오옹배액     \"\n",
    "print(a)\n",
    "print(a.strip())"
   ]
  },
  {
   "cell_type": "code",
   "execution_count": 14,
   "metadata": {},
   "outputs": [
    {
     "output_type": "stream",
     "name": "stdout",
     "text": [
      "0\n4\n"
     ]
    }
   ],
   "source": [
    "# 문자열 찾기: find() / rfind()\n",
    "a = \"안뇽안뇽안뇽\"\n",
    "print(a.find(\"안뇽\"))\n",
    "print(a.rfind(\"안뇽\"))"
   ]
  },
  {
   "cell_type": "code",
   "execution_count": 16,
   "metadata": {},
   "outputs": [
    {
     "output_type": "stream",
     "name": "stdout",
     "text": [
      "True\nFalse\n"
     ]
    }
   ],
   "source": [
    "# 문자열과 in 연산자\n",
    "print(\"안녕\" in \"안녕하세요\")\n",
    "print(\"잘자\" in \"안녕하세요\")"
   ]
  },
  {
   "cell_type": "code",
   "execution_count": 17,
   "metadata": {},
   "outputs": [
    {
     "output_type": "stream",
     "name": "stdout",
     "text": [
      "['10', '20', '30', '40', '50']\n"
     ]
    }
   ],
   "source": [
    "# 문자열 자르기: split()\n",
    "# 리턴 값은 list\n",
    "a = \"10 20 30 40 50\".split(\" \")\n",
    "print(a)"
   ]
  },
  {
   "cell_type": "code",
   "execution_count": null,
   "metadata": {},
   "outputs": [],
   "source": []
  }
 ]
}