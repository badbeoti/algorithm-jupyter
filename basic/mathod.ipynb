{
 "metadata": {
  "language_info": {
   "codemirror_mode": {
    "name": "ipython",
    "version": 3
   },
   "file_extension": ".py",
   "mimetype": "text/x-python",
   "name": "python",
   "nbconvert_exporter": "python",
   "pygments_lexer": "ipython3",
   "version": "3.7.9-final"
  },
  "orig_nbformat": 2,
  "kernelspec": {
   "name": "python3",
   "display_name": "Python 3",
   "language": "python"
  }
 },
 "nbformat": 4,
 "nbformat_minor": 2,
 "cells": [
  {
   "source": [
    "array.count(x)\n",
    "\n",
    "배열 내에서 x가 등장하는 횟수를 반환"
   ],
   "cell_type": "markdown",
   "metadata": {}
  },
  {
   "cell_type": "code",
   "execution_count": 1,
   "metadata": {},
   "outputs": [
    {
     "output_type": "stream",
     "name": "stdout",
     "text": [
      "3\n"
     ]
    }
   ],
   "source": [
    "array = [1,2,3,3,3,4,5]\n",
    "\n",
    "print(array.count(3))"
   ]
  },
  {
   "source": [
    "sorted(iterable, *, key=None, reverse=False)\n",
    "iterable의 정렬된 리스트로 반환\n",
    "key는 하나의 인자를 받는 함수를 지정한다.\n",
    "\n",
    "reverse = False 기본, True일시 반전 정렬"
   ],
   "cell_type": "markdown",
   "metadata": {}
  },
  {
   "cell_type": "code",
   "execution_count": 4,
   "metadata": {},
   "outputs": [
    {
     "output_type": "stream",
     "name": "stdout",
     "text": [
      "[1, 2, 3, 5, 6, 7, 9] 올림차순\n[9, 7, 6, 5, 3, 2, 1] 내림차순\n"
     ]
    }
   ],
   "source": [
    "array = [5,6,3,7,1,2,9]\n",
    "\n",
    "print(sorted(array, reverse=False),\"올림차순\")\n",
    "print(sorted(array, reverse=True),\"내림차순\")"
   ]
  },
  {
   "source": [
    "모든 부분집합(열의 쌍)을 구하는 함수"
   ],
   "cell_type": "markdown",
   "metadata": {}
  },
  {
   "cell_type": "code",
   "execution_count": null,
   "metadata": {},
   "outputs": [],
   "source": [
    "from itertools import chain, combinations\n",
    "\n",
    "def get_all_subset(iterable):\n",
    "    s = list(iterable)\n",
    "    return chain.from_iterable(combinations(s, r) for r in range(len(s) + 1))\n",
    "\n",
    "# 부분집합 중에서 유일성을 만족하는 부분집합(열의 쌍)을 구합는 함수\n",
    "def get_all_unique_subset(relation):\n",
    "    subset_list = get_all_subset(list(range(0, len(relation[0]))))\n",
    "    unique_list = []\n",
    "    for subset in subset_list:\n",
    "        unique = True\n",
    "        row_set = set()\n",
    "        for i in range(len(relation)):\n",
    "            row = ''\n",
    "            for j in subset:\n",
    "                row += relation[i][j] + '.'\n",
    "            if row in row_set:\n",
    "                unique = False\n",
    "                break\n",
    "            row_set.add(row)\n",
    "        if unique:\n",
    "            unique_list.append(subset)\n",
    "    return unique_list"
   ]
  }
 ]
}