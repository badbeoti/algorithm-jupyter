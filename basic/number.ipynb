{
 "metadata": {
  "language_info": {
   "codemirror_mode": {
    "name": "ipython",
    "version": 3
   },
   "file_extension": ".py",
   "mimetype": "text/x-python",
   "name": "python",
   "nbconvert_exporter": "python",
   "pygments_lexer": "ipython3",
   "version": "3.7.9-final"
  },
  "orig_nbformat": 2,
  "kernelspec": {
   "name": "python3",
   "display_name": "Python 3",
   "language": "python"
  }
 },
 "nbformat": 4,
 "nbformat_minor": 2,
 "cells": [
  {
   "cell_type": "code",
   "execution_count": 1,
   "metadata": {},
   "outputs": [
    {
     "output_type": "stream",
     "name": "stdout",
     "text": [
      "<class 'int'>\n<class 'float'>\n"
     ]
    }
   ],
   "source": [
    "# 정수(integer) 소수점 x\n",
    "# 실수(floating point, 부동소수점)\n",
    "print(type(52))\n",
    "print(type(52.273))"
   ]
  },
  {
   "cell_type": "code",
   "execution_count": 4,
   "metadata": {},
   "outputs": [
    {
     "output_type": "stream",
     "name": "stdout",
     "text": [
      "3 // 2 = 1\n5 % 2 = 1\n"
     ]
    }
   ],
   "source": [
    "# 정수 나누기 연산자 //\n",
    "# 나머지 연산자 %\n",
    "print(\"3 // 2 =\",3 // 2)\n",
    "print(\"5 % 2 =\",5 % 2)"
   ]
  },
  {
   "cell_type": "code",
   "execution_count": 6,
   "metadata": {},
   "outputs": [
    {
     "output_type": "stream",
     "name": "stdout",
     "text": [
      "str = 312423\nint = 735\n"
     ]
    }
   ],
   "source": [
    "# input() 기본 값은 str 뭘로 출력해도 str로 나옴\n",
    "string_a = input()\n",
    "int_a = int(string_a)\n",
    "\n",
    "string_b = input()\n",
    "int_b = int(string_b)\n",
    "\n",
    "print(\"str =\",string_a + string_b)\n",
    "print(\"int =\",int_a + int_b)"
   ]
  },
  {
   "cell_type": "code",
   "execution_count": 1,
   "metadata": {},
   "outputs": [
    {
     "output_type": "stream",
     "name": "stdout",
     "text": [
      "123.46\n"
     ]
    }
   ],
   "source": [
    "# round() 소수 반올림 하는 함수\n",
    "print(round(123.456,2))"
   ]
  },
  {
   "cell_type": "code",
   "execution_count": null,
   "metadata": {},
   "outputs": [],
   "source": []
  }
 ]
}