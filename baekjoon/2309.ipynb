{
 "metadata": {
  "language_info": {
   "codemirror_mode": {
    "name": "ipython",
    "version": 3
   },
   "file_extension": ".py",
   "mimetype": "text/x-python",
   "name": "python",
   "nbconvert_exporter": "python",
   "pygments_lexer": "ipython3",
   "version": "3.7.9-final"
  },
  "orig_nbformat": 2,
  "kernelspec": {
   "name": "python3",
   "display_name": "Python 3",
   "language": "python"
  }
 },
 "nbformat": 4,
 "nbformat_minor": 2,
 "cells": [
  {
   "source": [
    "https://www.acmicpc.net/problem/2309"
   ],
   "cell_type": "markdown",
   "metadata": {}
  },
  {
   "cell_type": "code",
   "execution_count": 20,
   "metadata": {},
   "outputs": [
    {
     "output_type": "stream",
     "name": "stdout",
     "text": [
      "7\n8\n10\n13\n19\n20\n23\n"
     ]
    }
   ],
   "source": [
    "from itertools import combinations\n",
    "\n",
    "answer = []\n",
    "\n",
    "n = list(int(input()) for _ in range(9))\n",
    "# n = [20,7,23,19,10,15,25,8,13]\n",
    "\n",
    "nPr = list(combinations(n, 7))\n",
    "for i in nPr:\n",
    "    if sum(i) == 100:\n",
    "        answer = sorted(list(i))\n",
    "        break\n",
    "for i in answer:\n",
    "    print(i)"
   ]
  }
 ]
}