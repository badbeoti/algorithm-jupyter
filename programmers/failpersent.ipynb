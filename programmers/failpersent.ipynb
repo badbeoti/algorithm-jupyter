{
 "metadata": {
  "language_info": {
   "codemirror_mode": {
    "name": "ipython",
    "version": 3
   },
   "file_extension": ".py",
   "mimetype": "text/x-python",
   "name": "python",
   "nbconvert_exporter": "python",
   "pygments_lexer": "ipython3",
   "version": 3
  },
  "orig_nbformat": 2
 },
 "nbformat": 4,
 "nbformat_minor": 2,
 "cells": [
  {
   "cell_type": "code",
   "execution_count": null,
   "metadata": {},
   "outputs": [],
   "source": [
    "def solution(N, stages):\n",
    "    answer = []\n",
    "#   length는 전체 유저 수. for문을 돌때마다 해당 스테이지에 도달한(현 스테이지를 클리어하지 못한) 유저(count)들 만큼 빼준다.\n",
    "    length = len(stages)\n",
    "    for i in range(1, N+1):\n",
    "        count = stages.count(i)\n",
    "        if length == 0:\n",
    "            fail = 0\n",
    "        else:\n",
    "            fail = count / length\n",
    "        answer.append((i, fail))\n",
    "        length -= count\n",
    "    answer = sorted(answer, key=lambda t: t[1], reverse=True)\n",
    "    answer = [i[0] for i in answer]\n",
    "    return answer"
   ]
  }
 ]
}