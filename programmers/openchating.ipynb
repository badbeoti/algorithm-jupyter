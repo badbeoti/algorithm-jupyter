{
 "metadata": {
  "language_info": {
   "codemirror_mode": {
    "name": "ipython",
    "version": 3
   },
   "file_extension": ".py",
   "mimetype": "text/x-python",
   "name": "python",
   "nbconvert_exporter": "python",
   "pygments_lexer": "ipython3",
   "version": "3.7.9-final"
  },
  "orig_nbformat": 2,
  "kernelspec": {
   "name": "python3",
   "display_name": "Python 3",
   "language": "python"
  }
 },
 "nbformat": 4,
 "nbformat_minor": 2,
 "cells": [
  {
   "cell_type": "code",
   "execution_count": 2,
   "metadata": {},
   "outputs": [
    {
     "output_type": "error",
     "ename": "SyntaxError",
     "evalue": "unexpected EOF while parsing (<ipython-input-2-c07d97fd10c1>, line 8)",
     "traceback": [
      "\u001b[1;36m  File \u001b[1;32m\"<ipython-input-2-c07d97fd10c1>\"\u001b[1;36m, line \u001b[1;32m8\u001b[0m\n\u001b[1;33m    if i.split(' ')[0] == 'Enter':\u001b[0m\n\u001b[1;37m                                  ^\u001b[0m\n\u001b[1;31mSyntaxError\u001b[0m\u001b[1;31m:\u001b[0m unexpected EOF while parsing\n"
     ]
    }
   ],
   "source": [
    "def solution(record):\n",
    "    answer = []\n",
    "    user_list = {}\n",
    "    for i in record:\n",
    "        if i.split(' ')[0] == 'Enter' or i.split(' ')[0] == 'Change':\n",
    "            user_list[i.split(' ')[1]] = i.split(' ')[2]\n",
    "    for i in record:\n",
    "        if i.split(' ')[0] == 'Enter':\n",
    "            answer.append(user_list[i.split(' ')[1]] + '님이 들어왔습니다.')\n",
    "        elif i.split(' ')[0] == 'Leave':\n",
    "            answer.append(user_list[i.split(' ')[1]] + '님이 나갔습니다.')\n",
    "    return answer"
   ]
  },
  {
   "cell_type": "code",
   "execution_count": null,
   "metadata": {},
   "outputs": [],
   "source": []
  }
 ]
}