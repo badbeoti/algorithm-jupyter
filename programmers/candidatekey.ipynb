{
 "metadata": {
  "language_info": {
   "codemirror_mode": {
    "name": "ipython",
    "version": 3
   },
   "file_extension": ".py",
   "mimetype": "text/x-python",
   "name": "python",
   "nbconvert_exporter": "python",
   "pygments_lexer": "ipython3",
   "version": "3.7.9-final"
  },
  "orig_nbformat": 2,
  "kernelspec": {
   "name": "python3",
   "display_name": "Python 3",
   "language": "python"
  }
 },
 "nbformat": 4,
 "nbformat_minor": 2,
 "cells": [
  {
   "cell_type": "code",
   "execution_count": 1,
   "metadata": {},
   "outputs": [
    {
     "output_type": "error",
     "ename": "SyntaxError",
     "evalue": "unexpected EOF while parsing (<ipython-input-1-33b3b74c7e1f>, line 34)",
     "traceback": [
      "\u001b[1;36m  File \u001b[1;32m\"<ipython-input-1-33b3b74c7e1f>\"\u001b[1;36m, line \u001b[1;32m34\u001b[0m\n\u001b[1;33m    for j in answer_list:\u001b[0m\n\u001b[1;37m                         ^\u001b[0m\n\u001b[1;31mSyntaxError\u001b[0m\u001b[1;31m:\u001b[0m unexpected EOF while parsing\n"
     ]
    }
   ],
   "source": [
    "from itertools import chain, combinations\n",
    "\n",
    "def get_all_subset(iterable):\n",
    "    s = list(iterable)\n",
    "    return chain.from_iterable(combinations(s, r) for r in range(len(s) + 1))\n",
    "\n",
    "# 부분집합 중에서 유일성을 만족하는 부분집합(열의 쌍)을 구합는 함수\n",
    "def get_all_unique_subset(relation):\n",
    "    subset_list = get_all_subset(list(range(0, len(relation[0]))))\n",
    "    unique_list = []\n",
    "    for subset in subset_list:\n",
    "        unique = True\n",
    "        row_set = set()\n",
    "        for i in range(len(relation)):\n",
    "            row = ''\n",
    "            for j in subset:\n",
    "                row += relation[i][j] + '.'\n",
    "            if row in row_set:\n",
    "                unique = False\n",
    "                break\n",
    "            row_set.add(row)\n",
    "        if unique:\n",
    "            unique_list.append(subset)\n",
    "    return unique_list\n",
    "\n",
    "def solution(relation):\n",
    "    unique_list = get_all_unique_subset(relation)\n",
    "    unique_list = sorted(unique_list, key=lambda x: len(x))\n",
    "# 부분집합 중에서 최소성을 만족하는 부분집합(열의 쌍)을 구하기\n",
    "    answer_list = []\n",
    "    for subset in unique_list:\n",
    "        subset = set(subset)\n",
    "        check = True\n",
    "        for j in answer_list:\n",
    "            if j.issubset(subset):\n",
    "                check = False\n",
    "        if check == True:\n",
    "            answer_list.append(subset)\n",
    "    return len(answer_list)"
   ]
  },
  {
   "cell_type": "code",
   "execution_count": null,
   "metadata": {},
   "outputs": [],
   "source": []
  }
 ]
}